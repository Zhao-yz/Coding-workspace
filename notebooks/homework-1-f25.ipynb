{
  "nbformat": 4,
  "nbformat_minor": 0,
  "metadata": {
    "colab": {
      "provenance": []
    },
    "kernelspec": {
      "name": "python3",
      "display_name": "Python 3"
    },
    "language_info": {
      "name": "python"
    }
  },
  "cells": [
    {
      "cell_type": "markdown",
      "source": [
        "Part I. Warm Up\n",
        "1. Reshaping a NumPy Array"
      ],
      "metadata": {
        "id": "XmpMIOqxCVYU"
      }
    },
    {
      "cell_type": "code",
      "source": [
        "import numpy as np\n",
        "a = np.array([1,2,3,4,5,6,7,8])\n",
        "a_matrix = a.reshape(2, 4)\n",
        "print(a_matrix)\n",
        "\n"
      ],
      "metadata": {
        "colab": {
          "base_uri": "https://localhost:8080/"
        },
        "id": "EAQe5OtkWLho",
        "outputId": "66b2f25d-141c-486b-e752-5c47e49e5cda"
      },
      "execution_count": 2,
      "outputs": [
        {
          "output_type": "stream",
          "name": "stdout",
          "text": [
            "[[1 2 3 4]\n",
            " [5 6 7 8]]\n"
          ]
        }
      ]
    },
    {
      "cell_type": "markdown",
      "source": [
        "2. PyTorch Tensor Operations"
      ],
      "metadata": {
        "id": "4cX7NCXFCZ7O"
      }
    },
    {
      "cell_type": "code",
      "source": [
        "import torch\n",
        "a = torch.tensor([1, 3, 5, 6])\n",
        "b = torch.tensor([5, 6, 8, 9])\n",
        "\n",
        "# Elementwise addition\n",
        "add_result = a + b\n",
        "print(\"a + b =\", add_result)\n",
        "\n",
        "# Elementwise multiplication\n",
        "mul_result = a * b\n",
        "print(\"a * b =\", mul_result)\n",
        "\n",
        "# Elementwise power (a^b for each element)\n",
        "pow_result = a ** b\n",
        "print(\"a^b =\", pow_result)\n",
        "\n",
        "# Dot product of a and b\n",
        "dot_result = torch.dot(a, b)\n",
        "print(\"a·b =\", dot_result)\n",
        "\n",
        "# Dot product of e^a and ln(b)\n",
        "exp_dot_log = torch.dot(torch.exp(a.to(torch.float32)), torch.log(b.to(torch.float32)))\n",
        "print(\"dot(e^a, ln(b)) =\", exp_dot_log)\n"
      ],
      "metadata": {
        "colab": {
          "base_uri": "https://localhost:8080/"
        },
        "id": "gY9pjPWPWOlR",
        "outputId": "17bdbb17-45de-46a7-f31a-8322e02285aa"
      },
      "execution_count": 3,
      "outputs": [
        {
          "output_type": "stream",
          "name": "stdout",
          "text": [
            "a + b = tensor([ 6,  9, 13, 15])\n",
            "a * b = tensor([ 5, 18, 40, 54])\n",
            "a^b = tensor([       1,      729,   390625, 10077696])\n",
            "a·b = tensor(117)\n",
            "dot(e^a, ln(b)) = tensor(1235.4036)\n"
          ]
        }
      ]
    },
    {
      "cell_type": "markdown",
      "source": [
        "3. Autograd Gradient Computations\n",
        "\n",
        "(a)"
      ],
      "metadata": {
        "id": "5E5bG6tACeFP"
      }
    },
    {
      "cell_type": "code",
      "source": [
        "# Define the coefficients and variables\n",
        "coeff = torch.tensor([1., 3., 5., 6.])\n",
        "point = torch.tensor([5., 6., 8., 9.], requires_grad=True)\n",
        "# Compute g as dot of coeff and (e^point * point^2)\n",
        "g_val = torch.dot(coeff, torch.exp(point) * (point**2))\n",
        "g_val.backward()  # compute gradients\n",
        "print(point.grad)\n"
      ],
      "metadata": {
        "colab": {
          "base_uri": "https://localhost:8080/"
        },
        "id": "21Miye4GXIY7",
        "outputId": "fe98021a-ec6c-4e5a-bcab-772cece642e6"
      },
      "execution_count": 33,
      "outputs": [
        {
          "output_type": "stream",
          "name": "stdout",
          "text": [
            "tensor([   5194.4609,   58093.7500, 1192383.2500, 4813232.0000])\n"
          ]
        }
      ]
    },
    {
      "cell_type": "markdown",
      "source": [
        "(b)"
      ],
      "metadata": {
        "id": "IU5VLomBCwNR"
      }
    },
    {
      "cell_type": "code",
      "source": [
        "A = torch.tensor([[4., 3.],[7., 9.]], requires_grad=True)\n",
        "B = torch.tensor([[3., 5.],[1., 11.]])\n",
        "\n",
        "# 计算 f(A) = log(||A^T A B^T A A^T A B||_2^2)\n",
        "AT = A.T\n",
        "BT = B.T\n",
        "\n",
        "# 按照表达式顺序计算\n",
        "term1 = torch.matmul(AT, A)      # A^T A\n",
        "term2 = torch.matmul(BT, A)      # B^T A\n",
        "term3 = torch.matmul(AT, A)      # A^T A\n",
        "term4 = B                         # B\n",
        "\n",
        "# 连续矩阵乘法\n",
        "result = torch.matmul(torch.matmul(torch.matmul(term1, term2), term3), term4)\n",
        "\n",
        "# 计算L2范数的平方\n",
        "norm_squared = torch.norm(result, p=2) ** 2\n",
        "\n",
        "# 取对数\n",
        "f_A = torch.log(norm_squared)\n",
        "\n",
        "# 反向传播\n",
        "f_A.backward()\n",
        "\n",
        "print(\"Gradient of f with respect to A:\")\n",
        "print(A.grad)\n",
        "\n"
      ],
      "metadata": {
        "colab": {
          "base_uri": "https://localhost:8080/"
        },
        "id": "9LqpAi9PXMrx",
        "outputId": "b18c6233-6db8-4e5c-e76e-21553ad4b142"
      },
      "execution_count": 34,
      "outputs": [
        {
          "output_type": "stream",
          "name": "stdout",
          "text": [
            "Gradient of f with respect to A:\n",
            "tensor([[0.1737, 0.2854],\n",
            "        [0.3837, 0.6404]])\n"
          ]
        }
      ]
    },
    {
      "cell_type": "markdown",
      "source": [
        "(c)"
      ],
      "metadata": {
        "id": "bqb42Y1ZCyTS"
      }
    },
    {
      "cell_type": "code",
      "source": [
        "x = torch.tensor(3.0, requires_grad=True)\n",
        "y = torch.tensor(7.0, requires_grad=True)\n",
        "F_val = torch.tanh(x) + torch.tanh(y)\n",
        "F_val.backward()\n",
        "print(x.grad.item(), y.grad.item())\n"
      ],
      "metadata": {
        "colab": {
          "base_uri": "https://localhost:8080/"
        },
        "id": "nOxizXVKXQ3C",
        "outputId": "169422e6-7863-4731-d8e3-56fc0bdca7fc"
      },
      "execution_count": 36,
      "outputs": [
        {
          "output_type": "stream",
          "name": "stdout",
          "text": [
            "0.00986598152667284 3.3378573789377697e-06\n"
          ]
        }
      ]
    },
    {
      "cell_type": "markdown",
      "source": [
        "4. Tensor to NumPy and Float Conversion"
      ],
      "metadata": {
        "id": "KtTmXHrMC5Vq"
      }
    },
    {
      "cell_type": "code",
      "source": [
        "a = torch.tensor([1, 2, 3], dtype=torch.int32)\n",
        "# Convert to NumPy array\n",
        "b = a.numpy()\n",
        "# Convert to float tensor\n",
        "c = a.float()\n",
        "print(b, type(b))\n",
        "print(c, c.dtype)\n",
        "\n"
      ],
      "metadata": {
        "colab": {
          "base_uri": "https://localhost:8080/"
        },
        "id": "Lh7BGAGWC74z",
        "outputId": "a3e77078-9075-409d-887a-00398acb5514"
      },
      "execution_count": 37,
      "outputs": [
        {
          "output_type": "stream",
          "name": "stdout",
          "text": [
            "[1 2 3] <class 'numpy.ndarray'>\n",
            "tensor([1., 2., 3.]) torch.float32\n"
          ]
        }
      ]
    },
    {
      "cell_type": "markdown",
      "source": [
        "5. NumPy Matrix Operations"
      ],
      "metadata": {
        "id": "BYCUUJMqDHdB"
      }
    },
    {
      "cell_type": "code",
      "source": [
        "import numpy as np\n",
        "X = np.array([[1,3,5],[2,1,5]])\n",
        "Y = np.array([[8,4],[3,6],[2,7]])\n",
        "print(X.dot(Y))\n",
        "\n",
        "# Frobenius norm of [100, 2, 1]\n",
        "vector = np.array([[100, 2, 1]])  # 1x3 matrix\n",
        "frob_norm = np.linalg.norm(vector, 'fro')\n",
        "print(f\"Frobenius norm: {frob_norm}\")"
      ],
      "metadata": {
        "colab": {
          "base_uri": "https://localhost:8080/"
        },
        "id": "XJkXmXDeDIa8",
        "outputId": "c8d77c12-6cab-4e8e-96e0-37ccefe7ec1b"
      },
      "execution_count": 39,
      "outputs": [
        {
          "output_type": "stream",
          "name": "stdout",
          "text": [
            "[[27 57]\n",
            " [29 49]]\n",
            "Frobenius norm: 100.024996875781\n"
          ]
        }
      ]
    },
    {
      "cell_type": "markdown",
      "source": [
        "Part II. The Housing Prices (Kaggle House Prices Competition)\n"
      ],
      "metadata": {
        "id": "ss9qqlFHDNQs"
      }
    },
    {
      "cell_type": "code",
      "execution_count": 45,
      "metadata": {
        "colab": {
          "base_uri": "https://localhost:8080/"
        },
        "id": "NecjWNBfRaL2",
        "outputId": "c5412131-7003-4962-95d8-f58f7173a5f7"
      },
      "outputs": [
        {
          "output_type": "stream",
          "name": "stdout",
          "text": [
            "--- 训练数据信息 ---\n",
            "<class 'pandas.core.frame.DataFrame'>\n",
            "RangeIndex: 1460 entries, 0 to 1459\n",
            "Data columns (total 81 columns):\n",
            " #   Column         Non-Null Count  Dtype  \n",
            "---  ------         --------------  -----  \n",
            " 0   Id             1460 non-null   int64  \n",
            " 1   MSSubClass     1460 non-null   int64  \n",
            " 2   MSZoning       1460 non-null   object \n",
            " 3   LotFrontage    1201 non-null   float64\n",
            " 4   LotArea        1460 non-null   int64  \n",
            " 5   Street         1460 non-null   object \n",
            " 6   Alley          91 non-null     object \n",
            " 7   LotShape       1460 non-null   object \n",
            " 8   LandContour    1460 non-null   object \n",
            " 9   Utilities      1460 non-null   object \n",
            " 10  LotConfig      1460 non-null   object \n",
            " 11  LandSlope      1460 non-null   object \n",
            " 12  Neighborhood   1460 non-null   object \n",
            " 13  Condition1     1460 non-null   object \n",
            " 14  Condition2     1460 non-null   object \n",
            " 15  BldgType       1460 non-null   object \n",
            " 16  HouseStyle     1460 non-null   object \n",
            " 17  OverallQual    1460 non-null   int64  \n",
            " 18  OverallCond    1460 non-null   int64  \n",
            " 19  YearBuilt      1460 non-null   int64  \n",
            " 20  YearRemodAdd   1460 non-null   int64  \n",
            " 21  RoofStyle      1460 non-null   object \n",
            " 22  RoofMatl       1460 non-null   object \n",
            " 23  Exterior1st    1460 non-null   object \n",
            " 24  Exterior2nd    1460 non-null   object \n",
            " 25  MasVnrType     588 non-null    object \n",
            " 26  MasVnrArea     1452 non-null   float64\n",
            " 27  ExterQual      1460 non-null   object \n",
            " 28  ExterCond      1460 non-null   object \n",
            " 29  Foundation     1460 non-null   object \n",
            " 30  BsmtQual       1423 non-null   object \n",
            " 31  BsmtCond       1423 non-null   object \n",
            " 32  BsmtExposure   1422 non-null   object \n",
            " 33  BsmtFinType1   1423 non-null   object \n",
            " 34  BsmtFinSF1     1460 non-null   int64  \n",
            " 35  BsmtFinType2   1422 non-null   object \n",
            " 36  BsmtFinSF2     1460 non-null   int64  \n",
            " 37  BsmtUnfSF      1460 non-null   int64  \n",
            " 38  TotalBsmtSF    1460 non-null   int64  \n",
            " 39  Heating        1460 non-null   object \n",
            " 40  HeatingQC      1460 non-null   object \n",
            " 41  CentralAir     1460 non-null   object \n",
            " 42  Electrical     1459 non-null   object \n",
            " 43  1stFlrSF       1460 non-null   int64  \n",
            " 44  2ndFlrSF       1460 non-null   int64  \n",
            " 45  LowQualFinSF   1460 non-null   int64  \n",
            " 46  GrLivArea      1460 non-null   int64  \n",
            " 47  BsmtFullBath   1460 non-null   int64  \n",
            " 48  BsmtHalfBath   1460 non-null   int64  \n",
            " 49  FullBath       1460 non-null   int64  \n",
            " 50  HalfBath       1460 non-null   int64  \n",
            " 51  BedroomAbvGr   1460 non-null   int64  \n",
            " 52  KitchenAbvGr   1460 non-null   int64  \n",
            " 53  KitchenQual    1460 non-null   object \n",
            " 54  TotRmsAbvGrd   1460 non-null   int64  \n",
            " 55  Functional     1460 non-null   object \n",
            " 56  Fireplaces     1460 non-null   int64  \n",
            " 57  FireplaceQu    770 non-null    object \n",
            " 58  GarageType     1379 non-null   object \n",
            " 59  GarageYrBlt    1379 non-null   float64\n",
            " 60  GarageFinish   1379 non-null   object \n",
            " 61  GarageCars     1460 non-null   int64  \n",
            " 62  GarageArea     1460 non-null   int64  \n",
            " 63  GarageQual     1379 non-null   object \n",
            " 64  GarageCond     1379 non-null   object \n",
            " 65  PavedDrive     1460 non-null   object \n",
            " 66  WoodDeckSF     1460 non-null   int64  \n",
            " 67  OpenPorchSF    1460 non-null   int64  \n",
            " 68  EnclosedPorch  1460 non-null   int64  \n",
            " 69  3SsnPorch      1460 non-null   int64  \n",
            " 70  ScreenPorch    1460 non-null   int64  \n",
            " 71  PoolArea       1460 non-null   int64  \n",
            " 72  PoolQC         7 non-null      object \n",
            " 73  Fence          281 non-null    object \n",
            " 74  MiscFeature    54 non-null     object \n",
            " 75  MiscVal        1460 non-null   int64  \n",
            " 76  MoSold         1460 non-null   int64  \n",
            " 77  YrSold         1460 non-null   int64  \n",
            " 78  SaleType       1460 non-null   object \n",
            " 79  SaleCondition  1460 non-null   object \n",
            " 80  SalePrice      1460 non-null   int64  \n",
            "dtypes: float64(3), int64(35), object(43)\n",
            "memory usage: 924.0+ KB\n",
            "None\n",
            "\n",
            "--- 训练数据前5行 ---\n",
            "   Id  MSSubClass MSZoning  LotFrontage  LotArea Street Alley LotShape  \\\n",
            "0   1          60       RL         65.0     8450   Pave   NaN      Reg   \n",
            "1   2          20       RL         80.0     9600   Pave   NaN      Reg   \n",
            "2   3          60       RL         68.0    11250   Pave   NaN      IR1   \n",
            "3   4          70       RL         60.0     9550   Pave   NaN      IR1   \n",
            "4   5          60       RL         84.0    14260   Pave   NaN      IR1   \n",
            "\n",
            "  LandContour Utilities  ... PoolArea PoolQC Fence MiscFeature MiscVal MoSold  \\\n",
            "0         Lvl    AllPub  ...        0    NaN   NaN         NaN       0      2   \n",
            "1         Lvl    AllPub  ...        0    NaN   NaN         NaN       0      5   \n",
            "2         Lvl    AllPub  ...        0    NaN   NaN         NaN       0      9   \n",
            "3         Lvl    AllPub  ...        0    NaN   NaN         NaN       0      2   \n",
            "4         Lvl    AllPub  ...        0    NaN   NaN         NaN       0     12   \n",
            "\n",
            "  YrSold  SaleType  SaleCondition  SalePrice  \n",
            "0   2008        WD         Normal     208500  \n",
            "1   2007        WD         Normal     181500  \n",
            "2   2008        WD         Normal     223500  \n",
            "3   2006        WD        Abnorml     140000  \n",
            "4   2008        WD         Normal     250000  \n",
            "\n",
            "[5 rows x 81 columns]\n",
            "\n",
            "\n",
            "--- 测试数据信息 ---\n",
            "<class 'pandas.core.frame.DataFrame'>\n",
            "RangeIndex: 1459 entries, 0 to 1458\n",
            "Data columns (total 80 columns):\n",
            " #   Column         Non-Null Count  Dtype  \n",
            "---  ------         --------------  -----  \n",
            " 0   Id             1459 non-null   int64  \n",
            " 1   MSSubClass     1459 non-null   int64  \n",
            " 2   MSZoning       1455 non-null   object \n",
            " 3   LotFrontage    1232 non-null   float64\n",
            " 4   LotArea        1459 non-null   int64  \n",
            " 5   Street         1459 non-null   object \n",
            " 6   Alley          107 non-null    object \n",
            " 7   LotShape       1459 non-null   object \n",
            " 8   LandContour    1459 non-null   object \n",
            " 9   Utilities      1457 non-null   object \n",
            " 10  LotConfig      1459 non-null   object \n",
            " 11  LandSlope      1459 non-null   object \n",
            " 12  Neighborhood   1459 non-null   object \n",
            " 13  Condition1     1459 non-null   object \n",
            " 14  Condition2     1459 non-null   object \n",
            " 15  BldgType       1459 non-null   object \n",
            " 16  HouseStyle     1459 non-null   object \n",
            " 17  OverallQual    1459 non-null   int64  \n",
            " 18  OverallCond    1459 non-null   int64  \n",
            " 19  YearBuilt      1459 non-null   int64  \n",
            " 20  YearRemodAdd   1459 non-null   int64  \n",
            " 21  RoofStyle      1459 non-null   object \n",
            " 22  RoofMatl       1459 non-null   object \n",
            " 23  Exterior1st    1458 non-null   object \n",
            " 24  Exterior2nd    1458 non-null   object \n",
            " 25  MasVnrType     565 non-null    object \n",
            " 26  MasVnrArea     1444 non-null   float64\n",
            " 27  ExterQual      1459 non-null   object \n",
            " 28  ExterCond      1459 non-null   object \n",
            " 29  Foundation     1459 non-null   object \n",
            " 30  BsmtQual       1415 non-null   object \n",
            " 31  BsmtCond       1414 non-null   object \n",
            " 32  BsmtExposure   1415 non-null   object \n",
            " 33  BsmtFinType1   1417 non-null   object \n",
            " 34  BsmtFinSF1     1458 non-null   float64\n",
            " 35  BsmtFinType2   1417 non-null   object \n",
            " 36  BsmtFinSF2     1458 non-null   float64\n",
            " 37  BsmtUnfSF      1458 non-null   float64\n",
            " 38  TotalBsmtSF    1458 non-null   float64\n",
            " 39  Heating        1459 non-null   object \n",
            " 40  HeatingQC      1459 non-null   object \n",
            " 41  CentralAir     1459 non-null   object \n",
            " 42  Electrical     1459 non-null   object \n",
            " 43  1stFlrSF       1459 non-null   int64  \n",
            " 44  2ndFlrSF       1459 non-null   int64  \n",
            " 45  LowQualFinSF   1459 non-null   int64  \n",
            " 46  GrLivArea      1459 non-null   int64  \n",
            " 47  BsmtFullBath   1457 non-null   float64\n",
            " 48  BsmtHalfBath   1457 non-null   float64\n",
            " 49  FullBath       1459 non-null   int64  \n",
            " 50  HalfBath       1459 non-null   int64  \n",
            " 51  BedroomAbvGr   1459 non-null   int64  \n",
            " 52  KitchenAbvGr   1459 non-null   int64  \n",
            " 53  KitchenQual    1458 non-null   object \n",
            " 54  TotRmsAbvGrd   1459 non-null   int64  \n",
            " 55  Functional     1457 non-null   object \n",
            " 56  Fireplaces     1459 non-null   int64  \n",
            " 57  FireplaceQu    729 non-null    object \n",
            " 58  GarageType     1383 non-null   object \n",
            " 59  GarageYrBlt    1381 non-null   float64\n",
            " 60  GarageFinish   1381 non-null   object \n",
            " 61  GarageCars     1458 non-null   float64\n",
            " 62  GarageArea     1458 non-null   float64\n",
            " 63  GarageQual     1381 non-null   object \n",
            " 64  GarageCond     1381 non-null   object \n",
            " 65  PavedDrive     1459 non-null   object \n",
            " 66  WoodDeckSF     1459 non-null   int64  \n",
            " 67  OpenPorchSF    1459 non-null   int64  \n",
            " 68  EnclosedPorch  1459 non-null   int64  \n",
            " 69  3SsnPorch      1459 non-null   int64  \n",
            " 70  ScreenPorch    1459 non-null   int64  \n",
            " 71  PoolArea       1459 non-null   int64  \n",
            " 72  PoolQC         3 non-null      object \n",
            " 73  Fence          290 non-null    object \n",
            " 74  MiscFeature    51 non-null     object \n",
            " 75  MiscVal        1459 non-null   int64  \n",
            " 76  MoSold         1459 non-null   int64  \n",
            " 77  YrSold         1459 non-null   int64  \n",
            " 78  SaleType       1458 non-null   object \n",
            " 79  SaleCondition  1459 non-null   object \n",
            "dtypes: float64(11), int64(26), object(43)\n",
            "memory usage: 912.0+ KB\n",
            "None\n",
            "\n",
            "--- 测试数据前5行 ---\n",
            "     Id  MSSubClass MSZoning  LotFrontage  LotArea Street Alley LotShape  \\\n",
            "0  1461          20       RH         80.0    11622   Pave   NaN      Reg   \n",
            "1  1462          20       RL         81.0    14267   Pave   NaN      IR1   \n",
            "2  1463          60       RL         74.0    13830   Pave   NaN      IR1   \n",
            "3  1464          60       RL         78.0     9978   Pave   NaN      IR1   \n",
            "4  1465         120       RL         43.0     5005   Pave   NaN      IR1   \n",
            "\n",
            "  LandContour Utilities  ... ScreenPorch PoolArea PoolQC  Fence MiscFeature  \\\n",
            "0         Lvl    AllPub  ...         120        0    NaN  MnPrv         NaN   \n",
            "1         Lvl    AllPub  ...           0        0    NaN    NaN        Gar2   \n",
            "2         Lvl    AllPub  ...           0        0    NaN  MnPrv         NaN   \n",
            "3         Lvl    AllPub  ...           0        0    NaN    NaN         NaN   \n",
            "4         HLS    AllPub  ...         144        0    NaN    NaN         NaN   \n",
            "\n",
            "  MiscVal MoSold  YrSold  SaleType  SaleCondition  \n",
            "0       0      6    2010        WD         Normal  \n",
            "1   12500      6    2010        WD         Normal  \n",
            "2       0      3    2010        WD         Normal  \n",
            "3       0      6    2010        WD         Normal  \n",
            "4       0      1    2010        WD         Normal  \n",
            "\n",
            "[5 rows x 80 columns]\n"
          ]
        }
      ],
      "source": [
        "import pandas as pd\n",
        "import numpy as np\n",
        "import matplotlib.pyplot as plt\n",
        "import seaborn as sns\n",
        "from scipy import stats\n",
        "\n",
        "# 加载数据\n",
        "train_df = pd.read_csv('train.csv')\n",
        "test_df = pd.read_csv('test.csv')\n",
        "\n",
        "print(\"--- 训练数据信息 ---\")\n",
        "print(train_df.info())\n",
        "print(\"\\n--- 训练数据前5行 ---\")\n",
        "print(train_df.head())\n",
        "\n",
        "print(\"\\n\\n--- 测试数据信息 ---\")\n",
        "print(test_df.info())\n",
        "print(\"\\n--- 测试数据前5行 ---\")\n",
        "print(test_df.head())"
      ]
    },
    {
      "cell_type": "markdown",
      "source": [
        "问题 2: 特征类型与分布"
      ],
      "metadata": {
        "id": "T7m2ahckDfPq"
      }
    },
    {
      "cell_type": "code",
      "source": [
        "# 设置绘图风格\n",
        "sns.set_style(\"whitegrid\")\n",
        "\n",
        "plt.figure(figsize=(16, 6))\n",
        "\n",
        "# Subplot 1: Distribution of a continuous feature 'GrLivArea'\n",
        "plt.subplot(1, 2, 1)\n",
        "sns.histplot(train_df['GrLivArea'], kde=True, bins=50)\n",
        "plt.title('Distribution of Continuous Feature: GrLivArea')\n",
        "plt.xlabel('Area (Square Feet)')\n",
        "plt.ylabel('Frequency')\n",
        "\n",
        "# Subplot 2: Distribution of a categorical feature 'Neighborhood'\n",
        "# For categorical features, a bar plot is more appropriate than a histogram.\n",
        "plt.subplot(1, 2, 2)\n",
        "sns.countplot(y=train_df['Neighborhood'], order = train_df['Neighborhood'].value_counts().index)\n",
        "plt.title('Distribution of Categorical Feature: Neighborhood')\n",
        "plt.xlabel('Number of Houses')\n",
        "plt.ylabel('Neighborhood')"
      ],
      "metadata": {
        "colab": {
          "base_uri": "https://localhost:8080/",
          "height": 454
        },
        "id": "bqhmiTsGh2mW",
        "outputId": "815ae5de-f5f6-44a5-e794-30cfe5f2bedb"
      },
      "execution_count": 47,
      "outputs": [
        {
          "output_type": "execute_result",
          "data": {
            "text/plain": [
              "Text(0, 0.5, 'Neighborhood')"
            ]
          },
          "metadata": {},
          "execution_count": 47
        },
        {
          "output_type": "display_data",
          "data": {
            "text/plain": [
              "<Figure size 1600x600 with 2 Axes>"
            ],
            "image/png": "[encoded data removed]"
          },
          "metadata": {}
        }
      ]
    },
    {
      "cell_type": "markdown",
      "source": [
        "问题3: 数据预处理"
      ],
      "metadata": {
        "id": "BIR8gyjTQrm8"
      }
    },
    {
      "cell_type": "code",
      "source": [
        "from sklearn.linear_model import LinearRegression\n",
        "from sklearn.metrics import mean_squared_error, r2_score\n",
        "from sklearn.preprocessing import LabelEncoder\n",
        "\n",
        "\n",
        "# 保存ID和目标变量\n",
        "train_ID = train_df['Id']\n",
        "test_ID = test_df['Id']\n",
        "y_train = np.log1p(train_df['SalePrice'])  # 对目标变量进行对数变换\n",
        "\n",
        "# 删除ID列和SalePrice列，合并数据进行统一预处理\n",
        "ntrain = train_df.shape[0]\n",
        "all_data = pd.concat([train_df.drop(['Id', 'SalePrice'], axis=1),\n",
        "                      test_df.drop('Id', axis=1)], ignore_index=True)\n",
        "\n",
        "# === 数据预处理 ===\n",
        "\n",
        "# 1. 填充缺失值\n",
        "# 具有特定含义的NA（表示\"无\"）\n",
        "cols_na_none = ['Alley', 'BsmtQual', 'BsmtCond', 'BsmtExposure', 'BsmtFinType1',\n",
        "                'BsmtFinType2', 'FireplaceQu', 'GarageType', 'GarageFinish',\n",
        "                'GarageQual', 'GarageCond', 'PoolQC', 'Fence', 'MiscFeature', 'MasVnrType']\n",
        "for col in cols_na_none:\n",
        "    if col in all_data.columns:\n",
        "        all_data[col] = all_data[col].fillna('None')\n",
        "\n",
        "# 数值型NA填充为0\n",
        "cols_na_zero = ['BsmtFinSF1', 'BsmtFinSF2', 'BsmtUnfSF', 'TotalBsmtSF', 'BsmtFullBath',\n",
        "                'BsmtHalfBath', 'GarageCars', 'GarageArea', 'GarageYrBlt', 'MasVnrArea']\n",
        "for col in cols_na_zero:\n",
        "    if col in all_data.columns:\n",
        "        all_data[col] = all_data[col].fillna(0)\n",
        "\n",
        "# LotFrontage按邻里中位数填充\n",
        "all_data[\"LotFrontage\"] = all_data.groupby(\"Neighborhood\")[\"LotFrontage\"].transform(\n",
        "    lambda x: x.fillna(x.median()))\n",
        "\n",
        "# 其他分类特征填充为众数\n",
        "for col in ['MSZoning', 'Electrical', 'KitchenQual', 'Exterior1st',\n",
        "            'Exterior2nd', 'SaleType', 'Functional', 'Utilities']:\n",
        "    if col in all_data.columns:\n",
        "        all_data[col] = all_data[col].fillna(all_data[col].mode()[0] if len(all_data[col].mode()) > 0 else 'None')\n",
        "\n",
        "# 2. 特征工程\n",
        "# 将某些数值型特征转换为分类型\n",
        "cols_to_str = ['MSSubClass', 'OverallCond', 'YrSold', 'MoSold']\n",
        "for col in cols_to_str:\n",
        "    if col in all_data.columns:\n",
        "        all_data[col] = all_data[col].astype(str)\n",
        "\n",
        "# 对有序分类特征进行标签编码\n",
        "ordered_cols = ['ExterQual', 'ExterCond', 'BsmtQual', 'BsmtCond', 'HeatingQC',\n",
        "                'KitchenQual', 'FireplaceQu', 'GarageQual', 'GarageCond', 'PoolQC']\n",
        "for col in ordered_cols:\n",
        "    if col in all_data.columns:\n",
        "        lbl = LabelEncoder()\n",
        "        all_data[col] = all_data[col].astype(str)\n",
        "        all_data[col] = lbl.fit_transform(all_data[col])\n",
        "\n",
        "# 3. 处理数值特征的偏度\n",
        "numeric_feats = all_data.dtypes[all_data.dtypes != \"object\"].index\n",
        "skewed_feats = all_data[numeric_feats].apply(lambda x: x.skew()).sort_values(ascending=False)\n",
        "high_skew = skewed_feats[abs(skewed_feats) > 0.75]\n",
        "for col in high_skew.index:\n",
        "    all_data[col] = np.log1p(all_data[col])\n",
        "\n",
        "\n",
        "\n",
        "\n"
      ],
      "metadata": {
        "id": "jE2Yl1-wQs3_"
      },
      "execution_count": 48,
      "outputs": []
    },
    {
      "cell_type": "markdown",
      "source": [
        "问题4:对名义分类特征进行独热编码"
      ],
      "metadata": {
        "id": "kf0iawtsRQfQ"
      }
    },
    {
      "cell_type": "code",
      "source": [
        "# 4. One-hot编码（只执行一次！）\n",
        "all_data = pd.get_dummies(all_data)"
      ],
      "metadata": {
        "id": "Q4UhgS33RUfc"
      },
      "execution_count": 49,
      "outputs": []
    },
    {
      "cell_type": "markdown",
      "source": [
        "问题5:"
      ],
      "metadata": {
        "id": "vYAUf8jhRYaU"
      }
    },
    {
      "cell_type": "code",
      "source": [
        "# 5. 分离训练集和测试集\n",
        "X_train = all_data[:ntrain]\n",
        "X_test = all_data[ntrain:]\n",
        "\n",
        "# 填充任何剩余的NaN值\n",
        "X_train = X_train.fillna(0)\n",
        "X_test = X_test.fillna(0)\n",
        "\n",
        "# === 训练OLS模型 ===\n",
        "print(\"训练OLS模型...\")\n",
        "ols_model = LinearRegression()\n",
        "ols_model.fit(X_train, y_train)\n",
        "\n",
        "# 在训练集上评估\n",
        "y_train_pred = ols_model.predict(X_train)\n",
        "mse = mean_squared_error(y_train, y_train_pred)\n",
        "r2 = r2_score(y_train, y_train_pred)\n",
        "\n",
        "print(f\"\\n训练集评估结果：\")\n",
        "print(f\"MSE (log scale): {mse:.4f}\")\n",
        "print(f\"R² Score: {r2:.4f}\")\n",
        "print(f\"RMSE (original scale): ${np.sqrt(mean_squared_error(np.expm1(y_train), np.expm1(y_train_pred))):,.2f}\")\n"
      ],
      "metadata": {
        "colab": {
          "base_uri": "https://localhost:8080/"
        },
        "id": "7ZS5Qs7QRevE",
        "outputId": "ffbd638e-a574-490c-c2a8-f959a2bdf8b2"
      },
      "execution_count": 50,
      "outputs": [
        {
          "output_type": "stream",
          "name": "stdout",
          "text": [
            "训练OLS模型...\n",
            "\n",
            "训练集评估结果：\n",
            "MSE (log scale): 0.0085\n",
            "R² Score: 0.9468\n",
            "RMSE (original scale): $18,153.82\n"
          ]
        }
      ]
    },
    {
      "cell_type": "markdown",
      "source": [
        "问题6: 生成提交文件"
      ],
      "metadata": {
        "id": "Ted7B0-kRgtR"
      }
    },
    {
      "cell_type": "code",
      "source": [
        "# === 生成测试集预测 ===\n",
        "print(\"\\n生成测试集预测...\")\n",
        "test_predictions_log = ols_model.predict(X_test)\n",
        "test_predictions = np.expm1(test_predictions_log)  # 转换回原始尺度\n",
        "\n",
        "# 创建提交文件\n",
        "submission = pd.DataFrame({\n",
        "    'Id': test_ID,\n",
        "    'SalePrice': test_predictions\n",
        "})\n",
        "\n",
        "# 确保没有负值\n",
        "submission['SalePrice'] = submission['SalePrice'].apply(lambda x: max(0, x))\n",
        "\n",
        "# 保存提交文件\n",
        "submission.to_csv('submission.csv', index=False)\n",
        "\n",
        "print(\"\\n--- 问题 6: 提交文件生成 ---\")\n",
        "print(\"提交文件 'submission.csv' 已成功生成\")\n",
        "print(f\"文件包含 {len(submission)} 条预测\")\n",
        "print(\"\\n预览前5条记录：\")\n",
        "print(submission.head())\n",
        "print(f\"\\n预测价格统计：\")\n",
        "print(f\"最小值: ${submission['SalePrice'].min():,.2f}\")\n",
        "print(f\"最大值: ${submission['SalePrice'].max():,.2f}\")\n",
        "print(f\"平均值: ${submission['SalePrice'].mean():,.2f}\")\n",
        "print(f\"中位数: ${submission['SalePrice'].median():,.2f}\")"
      ],
      "metadata": {
        "colab": {
          "base_uri": "https://localhost:8080/"
        },
        "id": "-CnQssr9RjWJ",
        "outputId": "23f3c4ec-127d-4cfc-8cde-17f601b60c4a"
      },
      "execution_count": 51,
      "outputs": [
        {
          "output_type": "stream",
          "name": "stdout",
          "text": [
            "\n",
            "生成测试集预测...\n",
            "\n",
            "--- 问题 6: 提交文件生成 ---\n",
            "提交文件 'submission.csv' 已成功生成\n",
            "文件包含 1459 条预测\n",
            "\n",
            "预览前5条记录：\n",
            "     Id      SalePrice\n",
            "0  1461  125379.858940\n",
            "1  1462  173174.473549\n",
            "2  1463  186210.685335\n",
            "3  1464  199622.824993\n",
            "4  1465  201942.625838\n",
            "\n",
            "预测价格统计：\n",
            "最小值: $36,218.60\n",
            "最大值: $639,077.44\n",
            "平均值: $179,022.61\n",
            "中位数: $158,747.05\n"
          ]
        }
      ]
    }
  ]
}